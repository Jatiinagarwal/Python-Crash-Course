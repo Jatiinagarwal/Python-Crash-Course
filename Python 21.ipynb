{
 "cells": [
  {
   "cell_type": "markdown",
   "id": "096cd4a8",
   "metadata": {},
   "source": [
    "## Python Eval Function--Evaluating Expressions Dynamically"
   ]
  },
  {
   "cell_type": "code",
   "execution_count": 1,
   "id": "fac4476a",
   "metadata": {},
   "outputs": [
    {
     "data": {
      "text/plain": [
       "25"
      ]
     },
     "execution_count": 1,
     "metadata": {},
     "output_type": "execute_result"
    }
   ],
   "source": [
    "5*5"
   ]
  },
  {
   "cell_type": "code",
   "execution_count": 2,
   "id": "12659c6c",
   "metadata": {},
   "outputs": [
    {
     "data": {
      "text/plain": [
       "25"
      ]
     },
     "execution_count": 2,
     "metadata": {},
     "output_type": "execute_result"
    }
   ],
   "source": [
    "## eval function evaluates python expressions which are written as strings\n",
    "eval(\"5*5\")"
   ]
  },
  {
   "cell_type": "code",
   "execution_count": 5,
   "id": "7f2bf547",
   "metadata": {},
   "outputs": [
    {
     "name": "stdout",
     "output_type": "stream",
     "text": [
      "Enter the explen([1,2,3,4,5])\n"
     ]
    },
    {
     "data": {
      "text/plain": [
       "5"
      ]
     },
     "execution_count": 5,
     "metadata": {},
     "output_type": "execute_result"
    }
   ],
   "source": [
    "eval(input(\"Enter the exp\"))"
   ]
  },
  {
   "cell_type": "code",
   "execution_count": 6,
   "id": "c4159061",
   "metadata": {},
   "outputs": [
    {
     "name": "stdout",
     "output_type": "stream",
     "text": [
      "Enter the expsum([1,2,3,4,5])\n"
     ]
    },
    {
     "data": {
      "text/plain": [
       "15"
      ]
     },
     "execution_count": 6,
     "metadata": {},
     "output_type": "execute_result"
    }
   ],
   "source": [
    "eval(input(\"Enter the exp\"))"
   ]
  },
  {
   "cell_type": "code",
   "execution_count": 7,
   "id": "f76ce677",
   "metadata": {},
   "outputs": [],
   "source": [
    "def squared_num(num):\n",
    "    return num**2"
   ]
  },
  {
   "cell_type": "code",
   "execution_count": 9,
   "id": "f272cfbb",
   "metadata": {},
   "outputs": [
    {
     "data": {
      "text/plain": [
       "4"
      ]
     },
     "execution_count": 9,
     "metadata": {},
     "output_type": "execute_result"
    }
   ],
   "source": [
    "eval(\"squared_num(2)\")"
   ]
  },
  {
   "cell_type": "markdown",
   "id": "31c02222",
   "metadata": {},
   "source": [
    "## How does eval works\n",
    "1- Parse python expression.\n",
    "2- compile into a byte code.\n",
    "3- evaluate the python expression.\n",
    "4- it will return the result."
   ]
  },
  {
   "cell_type": "code",
   "execution_count": 11,
   "id": "7a23bed7",
   "metadata": {},
   "outputs": [],
   "source": [
    "var=compile(\"5*5\",\"<string>\",\"eval\")"
   ]
  },
  {
   "cell_type": "code",
   "execution_count": 13,
   "id": "1ae8b9e5",
   "metadata": {},
   "outputs": [
    {
     "data": {
      "text/plain": [
       "25"
      ]
     },
     "execution_count": 13,
     "metadata": {},
     "output_type": "execute_result"
    }
   ],
   "source": [
    "eval(var)"
   ]
  },
  {
   "cell_type": "code",
   "execution_count": 14,
   "id": "b8357734",
   "metadata": {},
   "outputs": [
    {
     "data": {
      "text/plain": [
       "160"
      ]
     },
     "execution_count": 14,
     "metadata": {},
     "output_type": "execute_result"
    }
   ],
   "source": [
    "### Globals\n",
    "eval(\"x+50+x**2\",{\"x\":10})"
   ]
  },
  {
   "cell_type": "code",
   "execution_count": 15,
   "id": "b5872689",
   "metadata": {},
   "outputs": [
    {
     "data": {
      "text/plain": [
       "160"
      ]
     },
     "execution_count": 15,
     "metadata": {},
     "output_type": "execute_result"
    }
   ],
   "source": [
    "### Globals\n",
    "x=10\n",
    "eval(\"x+50+x**2\",{\"x\":x})"
   ]
  },
  {
   "cell_type": "code",
   "execution_count": 16,
   "id": "3895bc82",
   "metadata": {},
   "outputs": [
    {
     "data": {
      "text/plain": [
       "200"
      ]
     },
     "execution_count": 16,
     "metadata": {},
     "output_type": "execute_result"
    }
   ],
   "source": [
    "x=100\n",
    "z=100\n",
    "eval(\"x+z\",{\"x\":x,\"z\":100})"
   ]
  },
  {
   "cell_type": "code",
   "execution_count": 17,
   "id": "7fe7f92c",
   "metadata": {},
   "outputs": [
    {
     "data": {
      "text/plain": [
       "200"
      ]
     },
     "execution_count": 17,
     "metadata": {},
     "output_type": "execute_result"
    }
   ],
   "source": [
    "x=100\n",
    "z=100\n",
    "eval(\"x+z\")"
   ]
  },
  {
   "cell_type": "code",
   "execution_count": 21,
   "id": "0047cbf1",
   "metadata": {},
   "outputs": [
    {
     "data": {
      "text/plain": [
       "1300"
      ]
     },
     "execution_count": 21,
     "metadata": {},
     "output_type": "execute_result"
    }
   ],
   "source": [
    "eval(\"a+b+c\",{},{\"a\":100,\"b\":200,\"c\":1000})"
   ]
  },
  {
   "cell_type": "code",
   "execution_count": 23,
   "id": "b78b6ef5",
   "metadata": {},
   "outputs": [
    {
     "data": {
      "text/plain": [
       "True"
      ]
     },
     "execution_count": 23,
     "metadata": {},
     "output_type": "execute_result"
    }
   ],
   "source": [
    "a=100\n",
    "b=200\n",
    "eval(\"a<b\")"
   ]
  },
  {
   "cell_type": "code",
   "execution_count": 24,
   "id": "9203158c",
   "metadata": {},
   "outputs": [],
   "source": [
    "##considered insecure bcoz it allows to dynamically execute the code\n",
    "##how to minimize security issues of eval"
   ]
  },
  {
   "cell_type": "code",
   "execution_count": 25,
   "id": "dfcfe501",
   "metadata": {},
   "outputs": [
    {
     "ename": "NameError",
     "evalue": "name 'x' is not defined",
     "output_type": "error",
     "traceback": [
      "\u001b[1;31m---------------------------------------------------------------------------\u001b[0m",
      "\u001b[1;31mNameError\u001b[0m                                 Traceback (most recent call last)",
      "\u001b[1;32m~\\AppData\\Local\\Temp\\ipykernel_9064\\2599407168.py\u001b[0m in \u001b[0;36m<module>\u001b[1;34m\u001b[0m\n\u001b[0;32m      1\u001b[0m \u001b[0mx\u001b[0m\u001b[1;33m=\u001b[0m\u001b[1;36m100\u001b[0m\u001b[1;33m\u001b[0m\u001b[1;33m\u001b[0m\u001b[0m\n\u001b[0;32m      2\u001b[0m \u001b[0my\u001b[0m\u001b[1;33m=\u001b[0m\u001b[1;36m100\u001b[0m\u001b[1;33m\u001b[0m\u001b[1;33m\u001b[0m\u001b[0m\n\u001b[1;32m----> 3\u001b[1;33m \u001b[0meval\u001b[0m\u001b[1;33m(\u001b[0m\u001b[1;34m\"x+y\"\u001b[0m\u001b[1;33m,\u001b[0m\u001b[1;33m{\u001b[0m\u001b[1;33m}\u001b[0m\u001b[1;33m,\u001b[0m\u001b[1;33m{\u001b[0m\u001b[1;33m}\u001b[0m\u001b[1;33m)\u001b[0m\u001b[1;33m\u001b[0m\u001b[1;33m\u001b[0m\u001b[0m\n\u001b[0m",
      "\u001b[1;32m<string>\u001b[0m in \u001b[0;36m<module>\u001b[1;34m\u001b[0m\n",
      "\u001b[1;31mNameError\u001b[0m: name 'x' is not defined"
     ]
    }
   ],
   "source": [
    "##restricting global and local variables\n",
    "x=100\n",
    "y=100\n",
    "eval(\"x+y\",{},{})"
   ]
  },
  {
   "cell_type": "code",
   "execution_count": null,
   "id": "24375e66",
   "metadata": {},
   "outputs": [],
   "source": []
  }
 ],
 "metadata": {
  "kernelspec": {
   "display_name": "Python 3 (ipykernel)",
   "language": "python",
   "name": "python3"
  },
  "language_info": {
   "codemirror_mode": {
    "name": "ipython",
    "version": 3
   },
   "file_extension": ".py",
   "mimetype": "text/x-python",
   "name": "python",
   "nbconvert_exporter": "python",
   "pygments_lexer": "ipython3",
   "version": "3.9.13"
  }
 },
 "nbformat": 4,
 "nbformat_minor": 5
}
