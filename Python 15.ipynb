{
 "cells": [
  {
   "cell_type": "code",
   "execution_count": 1,
   "id": "13d7a771",
   "metadata": {},
   "outputs": [],
   "source": [
    "## is vs =="
   ]
  },
  {
   "cell_type": "code",
   "execution_count": 7,
   "id": "ff62559c",
   "metadata": {},
   "outputs": [
    {
     "data": {
      "text/plain": [
       "False"
      ]
     },
     "execution_count": 7,
     "metadata": {},
     "output_type": "execute_result"
    }
   ],
   "source": [
    "lst1=[\"jatin\",\"jatin1\",\"jatin3\"]\n",
    "lst2=[\"jatin\",\"jatin1\",\"jatin2\"]\n",
    "lst1==lst2"
   ]
  },
  {
   "cell_type": "code",
   "execution_count": 8,
   "id": "a8f743e2",
   "metadata": {},
   "outputs": [
    {
     "data": {
      "text/plain": [
       "True"
      ]
     },
     "execution_count": 8,
     "metadata": {},
     "output_type": "execute_result"
    }
   ],
   "source": [
    "##for comparision\n",
    "lst1=[\"jatin\",\"jatin1\",\"jatin2\"]\n",
    "lst2=[\"jatin\",\"jatin1\",\"jatin2\"]\n",
    "lst1==lst2"
   ]
  },
  {
   "cell_type": "code",
   "execution_count": 9,
   "id": "d559f7f5",
   "metadata": {},
   "outputs": [
    {
     "data": {
      "text/plain": [
       "False"
      ]
     },
     "execution_count": 9,
     "metadata": {},
     "output_type": "execute_result"
    }
   ],
   "source": [
    "lst1 is lst2"
   ]
  },
  {
   "cell_type": "code",
   "execution_count": 10,
   "id": "b77ecf13",
   "metadata": {},
   "outputs": [
    {
     "data": {
      "text/plain": [
       "True"
      ]
     },
     "execution_count": 10,
     "metadata": {},
     "output_type": "execute_result"
    }
   ],
   "source": [
    "lst1=[\"jatin\",\"jatin1\",\"jatin2\"]\n",
    "lst2=lst1\n",
    "lst1 is lst2\n",
    "## same reference is provided to lst2"
   ]
  },
  {
   "cell_type": "code",
   "execution_count": 11,
   "id": "84e43d03",
   "metadata": {},
   "outputs": [
    {
     "data": {
      "text/plain": [
       "True"
      ]
     },
     "execution_count": 11,
     "metadata": {},
     "output_type": "execute_result"
    }
   ],
   "source": [
    "lst2 is lst1"
   ]
  },
  {
   "cell_type": "code",
   "execution_count": 14,
   "id": "b155ebcf",
   "metadata": {},
   "outputs": [],
   "source": [
    "lst2[0]=\"jatin2\""
   ]
  },
  {
   "cell_type": "code",
   "execution_count": 15,
   "id": "8ba3b63c",
   "metadata": {},
   "outputs": [
    {
     "data": {
      "text/plain": [
       "['jatin2', 'jatin1', 'jatin2']"
      ]
     },
     "execution_count": 15,
     "metadata": {},
     "output_type": "execute_result"
    }
   ],
   "source": [
    "lst2"
   ]
  },
  {
   "cell_type": "code",
   "execution_count": 16,
   "id": "8e7ef892",
   "metadata": {},
   "outputs": [
    {
     "data": {
      "text/plain": [
       "['jatin2', 'jatin1', 'jatin2']"
      ]
     },
     "execution_count": 16,
     "metadata": {},
     "output_type": "execute_result"
    }
   ],
   "source": [
    "lst1"
   ]
  },
  {
   "cell_type": "code",
   "execution_count": 17,
   "id": "9506cc6c",
   "metadata": {},
   "outputs": [
    {
     "name": "stdout",
     "output_type": "stream",
     "text": [
      "Enter a Phrase: jatin aggarwal\n",
      " JA\n"
     ]
    }
   ],
   "source": [
    "user_input = str(input(\"Enter a Phrase: \"))\n",
    "text = user_input.split()\n",
    "a = \" \"\n",
    "for i in text:\n",
    "    a = a+str(i[0]).upper()\n",
    "print(a)"
   ]
  },
  {
   "cell_type": "code",
   "execution_count": null,
   "id": "8009edbc",
   "metadata": {},
   "outputs": [],
   "source": []
  }
 ],
 "metadata": {
  "kernelspec": {
   "display_name": "Python 3 (ipykernel)",
   "language": "python",
   "name": "python3"
  },
  "language_info": {
   "codemirror_mode": {
    "name": "ipython",
    "version": 3
   },
   "file_extension": ".py",
   "mimetype": "text/x-python",
   "name": "python",
   "nbconvert_exporter": "python",
   "pygments_lexer": "ipython3",
   "version": "3.9.13"
  }
 },
 "nbformat": 4,
 "nbformat_minor": 5
}
