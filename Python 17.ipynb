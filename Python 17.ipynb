{
 "cells": [
  {
   "cell_type": "code",
   "execution_count": 2,
   "id": "72a0a33f",
   "metadata": {},
   "outputs": [
    {
     "name": "stdout",
     "output_type": "stream",
     "text": [
      "Collecting modin[ray]\n",
      "  Using cached modin-0.24.1-py3-none-any.whl (1.1 MB)\n",
      "Requirement already satisfied: packaging>=21.0 in c:\\users\\nimisha\\anaconda3\\lib\\site-packages (from modin[ray]) (21.3)\n",
      "Requirement already satisfied: fsspec>=2022.05.0 in c:\\users\\nimisha\\anaconda3\\lib\\site-packages (from modin[ray]) (2022.7.1)\n",
      "Requirement already satisfied: psutil>=5.8.0 in c:\\users\\nimisha\\anaconda3\\lib\\site-packages (from modin[ray]) (5.9.0)\n",
      "Collecting pandas<2.2,>=2.1\n",
      "  Using cached pandas-2.1.1-cp39-cp39-win_amd64.whl (10.8 MB)\n",
      "Requirement already satisfied: numpy>=1.22.4 in c:\\users\\nimisha\\anaconda3\\lib\\site-packages (from modin[ray]) (1.26.1)\n",
      "Collecting ray[default]!=2.5.0,>=1.13.0\n",
      "  Using cached ray-2.7.1-cp39-cp39-win_amd64.whl (24.3 MB)\n",
      "Requirement already satisfied: pydantic<2 in c:\\users\\nimisha\\anaconda3\\lib\\site-packages (from modin[ray]) (1.10.13)\n",
      "Collecting pyarrow>=7.0.0\n",
      "  Using cached pyarrow-13.0.0-cp39-cp39-win_amd64.whl (24.4 MB)\n",
      "Requirement already satisfied: pyparsing!=3.0.5,>=2.0.2 in c:\\users\\nimisha\\anaconda3\\lib\\site-packages (from packaging>=21.0->modin[ray]) (3.0.9)\n",
      "Requirement already satisfied: pytz>=2020.1 in c:\\users\\nimisha\\anaconda3\\lib\\site-packages (from pandas<2.2,>=2.1->modin[ray]) (2022.1)\n",
      "Requirement already satisfied: tzdata>=2022.1 in c:\\users\\nimisha\\anaconda3\\lib\\site-packages (from pandas<2.2,>=2.1->modin[ray]) (2023.3)\n",
      "Requirement already satisfied: python-dateutil>=2.8.2 in c:\\users\\nimisha\\anaconda3\\lib\\site-packages (from pandas<2.2,>=2.1->modin[ray]) (2.8.2)\n",
      "Requirement already satisfied: typing-extensions>=4.2.0 in c:\\users\\nimisha\\anaconda3\\lib\\site-packages (from pydantic<2->modin[ray]) (4.3.0)\n",
      "Collecting frozenlist\n",
      "  Using cached frozenlist-1.4.0-cp39-cp39-win_amd64.whl (44 kB)\n",
      "Requirement already satisfied: requests in c:\\users\\nimisha\\anaconda3\\lib\\site-packages (from ray[default]!=2.5.0,>=1.13.0->modin[ray]) (2.28.1)\n",
      "Collecting aiosignal\n",
      "  Using cached aiosignal-1.3.1-py3-none-any.whl (7.6 kB)\n",
      "Requirement already satisfied: protobuf!=3.19.5,>=3.15.3 in c:\\users\\nimisha\\anaconda3\\lib\\site-packages (from ray[default]!=2.5.0,>=1.13.0->modin[ray]) (4.24.4)\n",
      "Requirement already satisfied: pyyaml in c:\\users\\nimisha\\anaconda3\\lib\\site-packages (from ray[default]!=2.5.0,>=1.13.0->modin[ray]) (6.0)\n",
      "Requirement already satisfied: click>=7.0 in c:\\users\\nimisha\\anaconda3\\lib\\site-packages (from ray[default]!=2.5.0,>=1.13.0->modin[ray]) (8.0.4)\n",
      "Requirement already satisfied: msgpack<2.0.0,>=1.0.0 in c:\\users\\nimisha\\anaconda3\\lib\\site-packages (from ray[default]!=2.5.0,>=1.13.0->modin[ray]) (1.0.3)\n",
      "Requirement already satisfied: filelock in c:\\users\\nimisha\\anaconda3\\lib\\site-packages (from ray[default]!=2.5.0,>=1.13.0->modin[ray]) (3.6.0)\n",
      "Requirement already satisfied: jsonschema in c:\\users\\nimisha\\anaconda3\\lib\\site-packages (from ray[default]!=2.5.0,>=1.13.0->modin[ray]) (4.16.0)\n",
      "Requirement already satisfied: py-spy>=0.2.0 in c:\\users\\nimisha\\anaconda3\\lib\\site-packages (from ray[default]!=2.5.0,>=1.13.0->modin[ray]) (0.3.14)\n",
      "Collecting colorful\n",
      "  Using cached colorful-0.5.5-py2.py3-none-any.whl (201 kB)\n",
      "Collecting grpcio>=1.32.0\n",
      "  Using cached grpcio-1.59.0-cp39-cp39-win_amd64.whl (3.7 MB)\n",
      "Requirement already satisfied: virtualenv<20.21.1,>=20.0.24 in c:\\users\\nimisha\\anaconda3\\lib\\site-packages (from ray[default]!=2.5.0,>=1.13.0->modin[ray]) (20.21.0)\n",
      "Collecting opencensus\n",
      "  Using cached opencensus-0.11.3-py2.py3-none-any.whl (128 kB)\n",
      "Collecting aiohttp-cors\n",
      "  Using cached aiohttp_cors-0.7.0-py3-none-any.whl (27 kB)\n",
      "Requirement already satisfied: prometheus-client>=0.7.1 in c:\\users\\nimisha\\anaconda3\\lib\\site-packages (from ray[default]!=2.5.0,>=1.13.0->modin[ray]) (0.14.1)\n",
      "Requirement already satisfied: smart-open in c:\\users\\nimisha\\anaconda3\\lib\\site-packages (from ray[default]!=2.5.0,>=1.13.0->modin[ray]) (5.2.1)\n",
      "Collecting gpustat>=1.0.0\n",
      "  Using cached gpustat-1.1.1-py3-none-any.whl\n",
      "Collecting aiohttp>=3.7\n",
      "  Using cached aiohttp-3.8.6-cp39-cp39-win_amd64.whl (329 kB)\n",
      "Requirement already satisfied: attrs>=17.3.0 in c:\\users\\nimisha\\anaconda3\\lib\\site-packages (from aiohttp>=3.7->ray[default]!=2.5.0,>=1.13.0->modin[ray]) (21.4.0)\n",
      "Collecting yarl<2.0,>=1.0\n",
      "  Using cached yarl-1.9.2-cp39-cp39-win_amd64.whl (61 kB)\n",
      "Requirement already satisfied: charset-normalizer<4.0,>=2.0 in c:\\users\\nimisha\\anaconda3\\lib\\site-packages (from aiohttp>=3.7->ray[default]!=2.5.0,>=1.13.0->modin[ray]) (2.0.4)\n",
      "Collecting multidict<7.0,>=4.5\n",
      "  Using cached multidict-6.0.4-cp39-cp39-win_amd64.whl (28 kB)\n",
      "Collecting async-timeout<5.0,>=4.0.0a3\n",
      "  Using cached async_timeout-4.0.3-py3-none-any.whl (5.7 kB)\n",
      "Requirement already satisfied: colorama in c:\\users\\nimisha\\anaconda3\\lib\\site-packages (from click>=7.0->ray[default]!=2.5.0,>=1.13.0->modin[ray]) (0.4.5)\n",
      "Requirement already satisfied: nvidia-ml-py>=11.450.129 in c:\\users\\nimisha\\anaconda3\\lib\\site-packages (from gpustat>=1.0.0->ray[default]!=2.5.0,>=1.13.0->modin[ray]) (12.535.108)\n",
      "Collecting blessed>=1.17.1\n",
      "  Using cached blessed-1.20.0-py2.py3-none-any.whl (58 kB)\n",
      "Requirement already satisfied: six>=1.5 in c:\\users\\nimisha\\anaconda3\\lib\\site-packages (from python-dateutil>=2.8.2->pandas<2.2,>=2.1->modin[ray]) (1.16.0)\n",
      "Requirement already satisfied: platformdirs<4,>=2.4 in c:\\users\\nimisha\\anaconda3\\lib\\site-packages (from virtualenv<20.21.1,>=20.0.24->ray[default]!=2.5.0,>=1.13.0->modin[ray]) (2.5.2)\n",
      "Requirement already satisfied: distlib<1,>=0.3.6 in c:\\users\\nimisha\\anaconda3\\lib\\site-packages (from virtualenv<20.21.1,>=20.0.24->ray[default]!=2.5.0,>=1.13.0->modin[ray]) (0.3.7)\n",
      "Requirement already satisfied: pyrsistent!=0.17.0,!=0.17.1,!=0.17.2,>=0.14.0 in c:\\users\\nimisha\\anaconda3\\lib\\site-packages (from jsonschema->ray[default]!=2.5.0,>=1.13.0->modin[ray]) (0.18.0)\n",
      "Requirement already satisfied: opencensus-context>=0.1.3 in c:\\users\\nimisha\\anaconda3\\lib\\site-packages (from opencensus->ray[default]!=2.5.0,>=1.13.0->modin[ray]) (0.1.3)\n",
      "Collecting google-api-core<3.0.0,>=1.0.0\n",
      "  Using cached google_api_core-2.12.0-py3-none-any.whl (121 kB)\n",
      "Requirement already satisfied: idna<4,>=2.5 in c:\\users\\nimisha\\anaconda3\\lib\\site-packages (from requests->ray[default]!=2.5.0,>=1.13.0->modin[ray]) (3.3)\n",
      "Requirement already satisfied: urllib3<1.27,>=1.21.1 in c:\\users\\nimisha\\anaconda3\\lib\\site-packages (from requests->ray[default]!=2.5.0,>=1.13.0->modin[ray]) (1.26.11)\n",
      "Requirement already satisfied: certifi>=2017.4.17 in c:\\users\\nimisha\\anaconda3\\lib\\site-packages (from requests->ray[default]!=2.5.0,>=1.13.0->modin[ray]) (2022.9.14)\n",
      "Requirement already satisfied: wcwidth>=0.1.4 in c:\\users\\nimisha\\anaconda3\\lib\\site-packages (from blessed>=1.17.1->gpustat>=1.0.0->ray[default]!=2.5.0,>=1.13.0->modin[ray]) (0.2.5)\n",
      "Collecting jinxed>=1.1.0\n",
      "  Using cached jinxed-1.2.0-py2.py3-none-any.whl (33 kB)\n",
      "Collecting google-auth<3.0.dev0,>=2.14.1\n",
      "  Using cached google_auth-2.23.3-py2.py3-none-any.whl (182 kB)\n",
      "Collecting googleapis-common-protos<2.0.dev0,>=1.56.2\n",
      "  Using cached googleapis_common_protos-1.61.0-py2.py3-none-any.whl (230 kB)\n",
      "Requirement already satisfied: rsa<5,>=3.1.4 in c:\\users\\nimisha\\anaconda3\\lib\\site-packages (from google-auth<3.0.dev0,>=2.14.1->google-api-core<3.0.0,>=1.0.0->opencensus->ray[default]!=2.5.0,>=1.13.0->modin[ray]) (4.9)\n",
      "Collecting cachetools<6.0,>=2.0.0\n",
      "  Using cached cachetools-5.3.1-py3-none-any.whl (9.3 kB)\n",
      "Requirement already satisfied: pyasn1-modules>=0.2.1 in c:\\users\\nimisha\\anaconda3\\lib\\site-packages (from google-auth<3.0.dev0,>=2.14.1->google-api-core<3.0.0,>=1.0.0->opencensus->ray[default]!=2.5.0,>=1.13.0->modin[ray]) (0.2.8)\n",
      "Requirement already satisfied: ansicon in c:\\users\\nimisha\\anaconda3\\lib\\site-packages (from jinxed>=1.1.0->blessed>=1.17.1->gpustat>=1.0.0->ray[default]!=2.5.0,>=1.13.0->modin[ray]) (1.89.0)\n",
      "Requirement already satisfied: pyasn1<0.5.0,>=0.4.6 in c:\\users\\nimisha\\anaconda3\\lib\\site-packages (from pyasn1-modules>=0.2.1->google-auth<3.0.dev0,>=2.14.1->google-api-core<3.0.0,>=1.0.0->opencensus->ray[default]!=2.5.0,>=1.13.0->modin[ray]) (0.4.8)\n",
      "Installing collected packages: pyarrow, multidict, jinxed, grpcio, googleapis-common-protos, frozenlist, colorful, cachetools, async-timeout, yarl, pandas, google-auth, blessed, aiosignal, ray, modin, gpustat, google-api-core, aiohttp, opencensus, aiohttp-cors\n",
      "  Attempting uninstall: pandas\n",
      "    Found existing installation: pandas 1.4.4\n",
      "    Uninstalling pandas-1.4.4:\n",
      "      Successfully uninstalled pandas-1.4.4\n",
      "Successfully installed aiohttp-3.8.6 aiohttp-cors-0.7.0 aiosignal-1.3.1 async-timeout-4.0.3 blessed-1.20.0 cachetools-5.3.1 colorful-0.5.5 frozenlist-1.4.0 google-api-core-2.12.0 google-auth-2.23.3 googleapis-common-protos-1.61.0 gpustat-1.1.1 grpcio-1.59.0 jinxed-1.2.0 modin-0.24.1 multidict-6.0.4 opencensus-0.11.3 pandas-2.1.1 pyarrow-13.0.0 ray-2.7.1 yarl-1.9.2\n"
     ]
    }
   ],
   "source": [
    "!pip install modin[ray]"
   ]
  },
  {
   "cell_type": "code",
   "execution_count": 2,
   "id": "4519dcaa",
   "metadata": {},
   "outputs": [],
   "source": [
    "import pandas as pd"
   ]
  },
  {
   "cell_type": "code",
   "execution_count": 3,
   "id": "9fad152d",
   "metadata": {},
   "outputs": [
    {
     "name": "stdout",
     "output_type": "stream",
     "text": [
      "Wall time: 288 ms\n"
     ]
    },
    {
     "data": {
      "text/html": [
       "<div>\n",
       "<style scoped>\n",
       "    .dataframe tbody tr th:only-of-type {\n",
       "        vertical-align: middle;\n",
       "    }\n",
       "\n",
       "    .dataframe tbody tr th {\n",
       "        vertical-align: top;\n",
       "    }\n",
       "\n",
       "    .dataframe thead th {\n",
       "        text-align: right;\n",
       "    }\n",
       "</style>\n",
       "<table border=\"1\" class=\"dataframe\">\n",
       "  <thead>\n",
       "    <tr style=\"text-align: right;\">\n",
       "      <th></th>\n",
       "      <th>Unnamed: 0</th>\n",
       "      <th>col1</th>\n",
       "      <th>col3</th>\n",
       "    </tr>\n",
       "  </thead>\n",
       "  <tbody>\n",
       "    <tr>\n",
       "      <th>0</th>\n",
       "      <td>0</td>\n",
       "      <td>x</td>\n",
       "      <td>1</td>\n",
       "    </tr>\n",
       "    <tr>\n",
       "      <th>1</th>\n",
       "      <td>1</td>\n",
       "      <td>a</td>\n",
       "      <td>2</td>\n",
       "    </tr>\n",
       "    <tr>\n",
       "      <th>2</th>\n",
       "      <td>2</td>\n",
       "      <td>c</td>\n",
       "      <td>3</td>\n",
       "    </tr>\n",
       "  </tbody>\n",
       "</table>\n",
       "</div>"
      ],
      "text/plain": [
       "   Unnamed: 0 col1  col3\n",
       "0           0    x     1\n",
       "1           1    a     2\n",
       "2           2    c     3"
      ]
     },
     "execution_count": 3,
     "metadata": {},
     "output_type": "execute_result"
    }
   ],
   "source": [
    "%%time\n",
    "df=pd.read_csv(\"test.csv\")\n",
    "df"
   ]
  },
  {
   "cell_type": "code",
   "execution_count": 1,
   "id": "3db8e7fa",
   "metadata": {},
   "outputs": [
    {
     "ename": "ModuleNotFoundError",
     "evalue": "No module named 'modin'",
     "output_type": "error",
     "traceback": [
      "\u001b[1;31m---------------------------------------------------------------------------\u001b[0m",
      "\u001b[1;31mModuleNotFoundError\u001b[0m                       Traceback (most recent call last)",
      "\u001b[1;32m~\\AppData\\Local\\Temp\\ipykernel_9348\\3077498895.py\u001b[0m in \u001b[0;36m<module>\u001b[1;34m\u001b[0m\n\u001b[1;32m----> 1\u001b[1;33m \u001b[1;32mimport\u001b[0m \u001b[0mmodin\u001b[0m\u001b[1;33m.\u001b[0m\u001b[0mpandas\u001b[0m \u001b[1;32mas\u001b[0m \u001b[0mpd\u001b[0m\u001b[1;33m\u001b[0m\u001b[1;33m\u001b[0m\u001b[0m\n\u001b[0m",
      "\u001b[1;31mModuleNotFoundError\u001b[0m: No module named 'modin'"
     ]
    }
   ],
   "source": [
    "import modin.pandas as pd"
   ]
  },
  {
   "cell_type": "code",
   "execution_count": null,
   "id": "d38ae2ab",
   "metadata": {},
   "outputs": [],
   "source": []
  }
 ],
 "metadata": {
  "kernelspec": {
   "display_name": "Python 3 (ipykernel)",
   "language": "python",
   "name": "python3"
  },
  "language_info": {
   "codemirror_mode": {
    "name": "ipython",
    "version": 3
   },
   "file_extension": ".py",
   "mimetype": "text/x-python",
   "name": "python",
   "nbconvert_exporter": "python",
   "pygments_lexer": "ipython3",
   "version": "3.9.13"
  }
 },
 "nbformat": 4,
 "nbformat_minor": 5
}
