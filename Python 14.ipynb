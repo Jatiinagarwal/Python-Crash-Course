{
 "cells": [
  {
   "cell_type": "markdown",
   "id": "5679e75d",
   "metadata": {},
   "source": [
    "## Python Decorators"
   ]
  },
  {
   "cell_type": "code",
   "execution_count": 1,
   "id": "60eeb8de",
   "metadata": {},
   "outputs": [],
   "source": [
    "## Function copy\n",
    "## Closures\n",
    "## Decorators"
   ]
  },
  {
   "cell_type": "code",
   "execution_count": 2,
   "id": "966f1732",
   "metadata": {},
   "outputs": [],
   "source": [
    "def welcome():\n",
    "    print(\"welcome everyone\")"
   ]
  },
  {
   "cell_type": "code",
   "execution_count": 4,
   "id": "44ad79c8",
   "metadata": {},
   "outputs": [
    {
     "name": "stdout",
     "output_type": "stream",
     "text": [
      "welcome everyone\n"
     ]
    }
   ],
   "source": [
    "wel=welcome()"
   ]
  },
  {
   "cell_type": "code",
   "execution_count": 6,
   "id": "05e7b037",
   "metadata": {},
   "outputs": [
    {
     "ename": "TypeError",
     "evalue": "'NoneType' object is not callable",
     "output_type": "error",
     "traceback": [
      "\u001b[1;31m---------------------------------------------------------------------------\u001b[0m",
      "\u001b[1;31mTypeError\u001b[0m                                 Traceback (most recent call last)",
      "\u001b[1;32m~\\AppData\\Local\\Temp\\ipykernel_15576\\418841069.py\u001b[0m in \u001b[0;36m<module>\u001b[1;34m\u001b[0m\n\u001b[1;32m----> 1\u001b[1;33m \u001b[0mwel\u001b[0m\u001b[1;33m(\u001b[0m\u001b[1;33m)\u001b[0m\u001b[1;33m\u001b[0m\u001b[1;33m\u001b[0m\u001b[0m\n\u001b[0m",
      "\u001b[1;31mTypeError\u001b[0m: 'NoneType' object is not callable"
     ]
    }
   ],
   "source": [
    "wel()"
   ]
  },
  {
   "cell_type": "code",
   "execution_count": 7,
   "id": "88d691b1",
   "metadata": {},
   "outputs": [],
   "source": [
    "def welcome():\n",
    "    return \"welcome everyone\""
   ]
  },
  {
   "cell_type": "code",
   "execution_count": 9,
   "id": "61a7d916",
   "metadata": {},
   "outputs": [],
   "source": [
    "wwel=welcome()"
   ]
  },
  {
   "cell_type": "code",
   "execution_count": 11,
   "id": "1bb85f1f",
   "metadata": {},
   "outputs": [
    {
     "data": {
      "text/plain": [
       "'welcome everyone'"
      ]
     },
     "execution_count": 11,
     "metadata": {},
     "output_type": "execute_result"
    }
   ],
   "source": [
    "wwel"
   ]
  },
  {
   "cell_type": "code",
   "execution_count": 12,
   "id": "d5345507",
   "metadata": {},
   "outputs": [],
   "source": [
    "wwel= welcome()\n",
    "del welcome"
   ]
  },
  {
   "cell_type": "code",
   "execution_count": 14,
   "id": "91c3e8bf",
   "metadata": {},
   "outputs": [
    {
     "data": {
      "text/plain": [
       "'welcome everyone'"
      ]
     },
     "execution_count": 14,
     "metadata": {},
     "output_type": "execute_result"
    }
   ],
   "source": [
    "wwel"
   ]
  },
  {
   "cell_type": "code",
   "execution_count": 15,
   "id": "b7271c42",
   "metadata": {},
   "outputs": [
    {
     "ename": "NameError",
     "evalue": "name 'welcome' is not defined",
     "output_type": "error",
     "traceback": [
      "\u001b[1;31m---------------------------------------------------------------------------\u001b[0m",
      "\u001b[1;31mNameError\u001b[0m                                 Traceback (most recent call last)",
      "\u001b[1;32m~\\AppData\\Local\\Temp\\ipykernel_15576\\1243561387.py\u001b[0m in \u001b[0;36m<module>\u001b[1;34m\u001b[0m\n\u001b[1;32m----> 1\u001b[1;33m \u001b[0mwelcome\u001b[0m\u001b[1;33m\u001b[0m\u001b[1;33m\u001b[0m\u001b[0m\n\u001b[0m",
      "\u001b[1;31mNameError\u001b[0m: name 'welcome' is not defined"
     ]
    }
   ],
   "source": [
    "welcome"
   ]
  },
  {
   "cell_type": "code",
   "execution_count": 16,
   "id": "c3784c05",
   "metadata": {},
   "outputs": [
    {
     "ename": "NameError",
     "evalue": "name 'welcome' is not defined",
     "output_type": "error",
     "traceback": [
      "\u001b[1;31m---------------------------------------------------------------------------\u001b[0m",
      "\u001b[1;31mNameError\u001b[0m                                 Traceback (most recent call last)",
      "\u001b[1;32m~\\AppData\\Local\\Temp\\ipykernel_15576\\241228648.py\u001b[0m in \u001b[0;36m<module>\u001b[1;34m\u001b[0m\n\u001b[1;32m----> 1\u001b[1;33m \u001b[0mwelcome\u001b[0m\u001b[1;33m(\u001b[0m\u001b[1;33m)\u001b[0m\u001b[1;33m\u001b[0m\u001b[1;33m\u001b[0m\u001b[0m\n\u001b[0m",
      "\u001b[1;31mNameError\u001b[0m: name 'welcome' is not defined"
     ]
    }
   ],
   "source": [
    "welcome()"
   ]
  },
  {
   "cell_type": "code",
   "execution_count": null,
   "id": "09419f13",
   "metadata": {},
   "outputs": [],
   "source": []
  },
  {
   "cell_type": "code",
   "execution_count": 18,
   "id": "0927b0ba",
   "metadata": {},
   "outputs": [],
   "source": [
    "## Closures\n",
    "### function inside a function"
   ]
  },
  {
   "cell_type": "code",
   "execution_count": 25,
   "id": "882c3202",
   "metadata": {},
   "outputs": [],
   "source": [
    "def main_welcome():\n",
    "    msg=\"Hello Everyone\"\n",
    "    def sub_welcome_class():\n",
    "        print(\"welcome here\")\n",
    "        print(msg)\n",
    "        print(\"please welcome\")\n",
    "    return sub_welcome_class()"
   ]
  },
  {
   "cell_type": "code",
   "execution_count": 26,
   "id": "eb0b7550",
   "metadata": {},
   "outputs": [
    {
     "name": "stdout",
     "output_type": "stream",
     "text": [
      "welcome here\n",
      "Hello Everyone\n",
      "please welcome\n"
     ]
    }
   ],
   "source": [
    "main_welcome()"
   ]
  },
  {
   "cell_type": "code",
   "execution_count": 27,
   "id": "e383440d",
   "metadata": {},
   "outputs": [],
   "source": [
    "def main_welcome(msg):\n",
    "    def sub_welcome_class():\n",
    "        print(\"welcome here\")\n",
    "        print(msg)\n",
    "        print(\"please welcome\")\n",
    "    return sub_welcome_class()"
   ]
  },
  {
   "cell_type": "code",
   "execution_count": 29,
   "id": "86153cce",
   "metadata": {},
   "outputs": [
    {
     "name": "stdout",
     "output_type": "stream",
     "text": [
      "welcome here\n",
      "Jatin\n",
      "please welcome\n"
     ]
    }
   ],
   "source": [
    "main_welcome(\"Jatin\")"
   ]
  },
  {
   "cell_type": "code",
   "execution_count": 30,
   "id": "1328996e",
   "metadata": {},
   "outputs": [],
   "source": [
    "## we can provide whatever input in the main function and we can use that particular varible that in the sub function"
   ]
  },
  {
   "cell_type": "code",
   "execution_count": 33,
   "id": "05b3e73a",
   "metadata": {},
   "outputs": [],
   "source": [
    "def main_welcome(func):\n",
    "    def sub_welcome_class():\n",
    "        print(\"welcome here\")\n",
    "        func()\n",
    "        print(\"please welcome\")\n",
    "    return sub_welcome_class()"
   ]
  },
  {
   "cell_type": "code",
   "execution_count": 34,
   "id": "8f6aaa6a",
   "metadata": {},
   "outputs": [
    {
     "name": "stdout",
     "output_type": "stream",
     "text": [
      "welcome here\n",
      "\n",
      "please welcome\n"
     ]
    }
   ],
   "source": [
    "main_welcome(print)"
   ]
  },
  {
   "cell_type": "code",
   "execution_count": 35,
   "id": "892cdfc3",
   "metadata": {},
   "outputs": [],
   "source": [
    "def main_welcome(func):\n",
    "    def sub_welcome_class():\n",
    "        print(\"welcome here\")\n",
    "        func(\"This is the programming\")\n",
    "        print(\"please welcome\")\n",
    "    return sub_welcome_class()"
   ]
  },
  {
   "cell_type": "code",
   "execution_count": 36,
   "id": "0e1335cf",
   "metadata": {},
   "outputs": [
    {
     "name": "stdout",
     "output_type": "stream",
     "text": [
      "welcome here\n",
      "This is the programming\n",
      "please welcome\n"
     ]
    }
   ],
   "source": [
    "main_welcome(print)"
   ]
  },
  {
   "cell_type": "code",
   "execution_count": 40,
   "id": "b8008969",
   "metadata": {},
   "outputs": [],
   "source": [
    "## closures and initial decorators\n",
    "def main_welcome(func):\n",
    "    def sub_welcome_class():\n",
    "        print(\"welcome here\")\n",
    "        print(func([1,2,3,4,5]))\n",
    "        print(\"please welcome\")\n",
    "    return sub_welcome_class()"
   ]
  },
  {
   "cell_type": "code",
   "execution_count": 41,
   "id": "360799d6",
   "metadata": {},
   "outputs": [
    {
     "name": "stdout",
     "output_type": "stream",
     "text": [
      "welcome here\n",
      "5\n",
      "please welcome\n"
     ]
    }
   ],
   "source": [
    "main_welcome(len)"
   ]
  },
  {
   "cell_type": "code",
   "execution_count": 46,
   "id": "a5ab8b46",
   "metadata": {},
   "outputs": [],
   "source": [
    "##Decorators\n",
    "def main_welcome(func):\n",
    "    def sub_welcome_class():\n",
    "        print(\"welcome here\")\n",
    "        func()\n",
    "        print(\"please welcome\")\n",
    "    return sub_welcome_class()"
   ]
  },
  {
   "cell_type": "code",
   "execution_count": 47,
   "id": "67f92546",
   "metadata": {},
   "outputs": [],
   "source": [
    "def name():\n",
    "    print(\"this is my name jatin\")"
   ]
  },
  {
   "cell_type": "code",
   "execution_count": 48,
   "id": "1a773758",
   "metadata": {},
   "outputs": [
    {
     "name": "stdout",
     "output_type": "stream",
     "text": [
      "welcome here\n",
      "this is my name jatin\n",
      "please welcome\n"
     ]
    }
   ],
   "source": [
    "main_welcome(name)"
   ]
  },
  {
   "cell_type": "code",
   "execution_count": 49,
   "id": "04e01631",
   "metadata": {},
   "outputs": [
    {
     "name": "stdout",
     "output_type": "stream",
     "text": [
      "welcome here\n",
      "this is my name jatin\n",
      "please welcome\n"
     ]
    }
   ],
   "source": [
    "@main_welcome\n",
    "def name():\n",
    "    print(\"this is my name jatin\")"
   ]
  },
  {
   "cell_type": "code",
   "execution_count": null,
   "id": "49adf99c",
   "metadata": {},
   "outputs": [],
   "source": []
  }
 ],
 "metadata": {
  "kernelspec": {
   "display_name": "Python 3 (ipykernel)",
   "language": "python",
   "name": "python3"
  },
  "language_info": {
   "codemirror_mode": {
    "name": "ipython",
    "version": 3
   },
   "file_extension": ".py",
   "mimetype": "text/x-python",
   "name": "python",
   "nbconvert_exporter": "python",
   "pygments_lexer": "ipython3",
   "version": "3.9.13"
  }
 },
 "nbformat": 4,
 "nbformat_minor": 5
}
