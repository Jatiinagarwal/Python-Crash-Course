{
 "cells": [
  {
   "cell_type": "markdown",
   "id": "c9538cee",
   "metadata": {},
   "source": [
    "## Python Assert"
   ]
  },
  {
   "cell_type": "markdown",
   "id": "4f4afcdf",
   "metadata": {},
   "source": [
    "Python provides the assert statement to check if given logical expression is true of fals.Proram execution proceeds only if the expression if true and raises the AssertionError when it is false.the following code shows the usage of the assert statement."
   ]
  },
  {
   "cell_type": "code",
   "execution_count": 2,
   "id": "6b8fb019",
   "metadata": {},
   "outputs": [
    {
     "data": {
      "text/plain": [
       "False"
      ]
     },
     "execution_count": 2,
     "metadata": {},
     "output_type": "execute_result"
    }
   ],
   "source": [
    "10>10##logical expression"
   ]
  },
  {
   "cell_type": "code",
   "execution_count": 5,
   "id": "6b26bc25",
   "metadata": {},
   "outputs": [
    {
     "ename": "AssertionError",
     "evalue": "",
     "output_type": "error",
     "traceback": [
      "\u001b[1;31m---------------------------------------------------------------------------\u001b[0m",
      "\u001b[1;31mAssertionError\u001b[0m                            Traceback (most recent call last)",
      "\u001b[1;32m~\\AppData\\Local\\Temp\\ipykernel_10836\\2566870627.py\u001b[0m in \u001b[0;36m<module>\u001b[1;34m\u001b[0m\n\u001b[0;32m      1\u001b[0m \u001b[0mnum\u001b[0m\u001b[1;33m=\u001b[0m\u001b[1;36m10\u001b[0m\u001b[1;33m\u001b[0m\u001b[1;33m\u001b[0m\u001b[0m\n\u001b[1;32m----> 2\u001b[1;33m \u001b[1;32massert\u001b[0m \u001b[0mnum\u001b[0m\u001b[1;33m>\u001b[0m\u001b[1;36m10\u001b[0m\u001b[1;33m\u001b[0m\u001b[1;33m\u001b[0m\u001b[0m\n\u001b[0m",
      "\u001b[1;31mAssertionError\u001b[0m: "
     ]
    }
   ],
   "source": [
    "num=10\n",
    "assert num>10"
   ]
  },
  {
   "cell_type": "code",
   "execution_count": 12,
   "id": "feca251a",
   "metadata": {},
   "outputs": [
    {
     "name": "stdout",
     "output_type": "stream",
     "text": [
      "Enter the no.11\n",
      "please enter even no\n"
     ]
    }
   ],
   "source": [
    "try:\n",
    "    num=int(input(\"Enter the no.\"))\n",
    "    assert num%2==0\n",
    "    print(\"The no. is even\")\n",
    "except AssertionError:\n",
    "    print(\"please enter even no\")"
   ]
  },
  {
   "cell_type": "code",
   "execution_count": null,
   "id": "e5e72037",
   "metadata": {},
   "outputs": [],
   "source": [
    " "
   ]
  }
 ],
 "metadata": {
  "kernelspec": {
   "display_name": "Python 3 (ipykernel)",
   "language": "python",
   "name": "python3"
  },
  "language_info": {
   "codemirror_mode": {
    "name": "ipython",
    "version": 3
   },
   "file_extension": ".py",
   "mimetype": "text/x-python",
   "name": "python",
   "nbconvert_exporter": "python",
   "pygments_lexer": "ipython3",
   "version": "3.9.13"
  }
 },
 "nbformat": 4,
 "nbformat_minor": 5
}
