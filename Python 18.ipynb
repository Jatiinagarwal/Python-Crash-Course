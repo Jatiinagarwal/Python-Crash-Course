{
 "cells": [
  {
   "cell_type": "markdown",
   "id": "59e93335",
   "metadata": {},
   "source": [
    "## Class Methods and Class Variables"
   ]
  },
  {
   "cell_type": "code",
   "execution_count": 1,
   "id": "05c2045a",
   "metadata": {},
   "outputs": [],
   "source": [
    "class car:\n",
    "    base_price=100000 ##class variables\n",
    "    def __init__(self,windows,doors,power):\n",
    "        self.windows=windows\n",
    "        self.doors=doors\n",
    "        self.power=power\n",
    "    def what_base_price(sel):\n",
    "        print(\"The base price is {}\".format(self.base_price))"
   ]
  },
  {
   "cell_type": "code",
   "execution_count": 2,
   "id": "ebb6ec9b",
   "metadata": {},
   "outputs": [
    {
     "data": {
      "text/plain": [
       "100000"
      ]
     },
     "execution_count": 2,
     "metadata": {},
     "output_type": "execute_result"
    }
   ],
   "source": [
    "car1=car(4,5,2000)\n",
    "car1.base_price"
   ]
  },
  {
   "cell_type": "code",
   "execution_count": 3,
   "id": "ca4f75b4",
   "metadata": {},
   "outputs": [
    {
     "data": {
      "text/plain": [
       "100000"
      ]
     },
     "execution_count": 3,
     "metadata": {},
     "output_type": "execute_result"
    }
   ],
   "source": [
    "car.base_price"
   ]
  },
  {
   "cell_type": "code",
   "execution_count": 7,
   "id": "f3c7606c",
   "metadata": {},
   "outputs": [],
   "source": [
    "class car:\n",
    "    base_price=100000 ##class variables\n",
    "    def __init__(self,windows,doors,power):\n",
    "        self.windows=windows\n",
    "        self.doors=doors\n",
    "        self.power=power\n",
    "    def what_base_price(sel):\n",
    "        print(\"The base price is {}\".format(self.base_price))\n",
    "    @classmethod\n",
    "    def revise_base_price(cls,inflation):\n",
    "        cls.base_price=cls.base_price+cls.base_price*inflation"
   ]
  },
  {
   "cell_type": "code",
   "execution_count": 8,
   "id": "35e7525e",
   "metadata": {},
   "outputs": [],
   "source": [
    "car.revise_base_price(0.10)"
   ]
  },
  {
   "cell_type": "code",
   "execution_count": 9,
   "id": "8096d5bd",
   "metadata": {},
   "outputs": [
    {
     "data": {
      "text/plain": [
       "110000.0"
      ]
     },
     "execution_count": 9,
     "metadata": {},
     "output_type": "execute_result"
    }
   ],
   "source": [
    "car.base_price"
   ]
  },
  {
   "cell_type": "code",
   "execution_count": 10,
   "id": "ee673b33",
   "metadata": {},
   "outputs": [],
   "source": [
    "car1=car(4,5,2000)\n"
   ]
  },
  {
   "cell_type": "code",
   "execution_count": 11,
   "id": "2bd4345e",
   "metadata": {},
   "outputs": [
    {
     "data": {
      "text/plain": [
       "110000.0"
      ]
     },
     "execution_count": 11,
     "metadata": {},
     "output_type": "execute_result"
    }
   ],
   "source": [
    "car1.base_price"
   ]
  },
  {
   "cell_type": "code",
   "execution_count": 12,
   "id": "e7c59111",
   "metadata": {},
   "outputs": [],
   "source": [
    "car1.revise_base_price(0.10)"
   ]
  },
  {
   "cell_type": "code",
   "execution_count": 13,
   "id": "f3def8b6",
   "metadata": {},
   "outputs": [
    {
     "data": {
      "text/plain": [
       "121000.0"
      ]
     },
     "execution_count": 13,
     "metadata": {},
     "output_type": "execute_result"
    }
   ],
   "source": [
    "car1.base_price"
   ]
  },
  {
   "cell_type": "code",
   "execution_count": null,
   "id": "27887b7c",
   "metadata": {},
   "outputs": [],
   "source": []
  }
 ],
 "metadata": {
  "kernelspec": {
   "display_name": "Python 3 (ipykernel)",
   "language": "python",
   "name": "python3"
  },
  "language_info": {
   "codemirror_mode": {
    "name": "ipython",
    "version": 3
   },
   "file_extension": ".py",
   "mimetype": "text/x-python",
   "name": "python",
   "nbconvert_exporter": "python",
   "pygments_lexer": "ipython3",
   "version": "3.9.13"
  }
 },
 "nbformat": 4,
 "nbformat_minor": 5
}
