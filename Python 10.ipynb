{
 "cells": [
  {
   "cell_type": "markdown",
   "id": "4d5eb2cf",
   "metadata": {},
   "source": [
    "## Python Exception Handling"
   ]
  },
  {
   "cell_type": "code",
   "execution_count": 2,
   "id": "12469e10",
   "metadata": {},
   "outputs": [],
   "source": [
    "a=10"
   ]
  },
  {
   "cell_type": "code",
   "execution_count": 1,
   "id": "6fe5bb6d",
   "metadata": {},
   "outputs": [
    {
     "ename": "NameError",
     "evalue": "name 'b' is not defined",
     "output_type": "error",
     "traceback": [
      "\u001b[1;31m---------------------------------------------------------------------------\u001b[0m",
      "\u001b[1;31mNameError\u001b[0m                                 Traceback (most recent call last)",
      "\u001b[1;32m~\\AppData\\Local\\Temp\\ipykernel_1808\\905401003.py\u001b[0m in \u001b[0;36m<module>\u001b[1;34m\u001b[0m\n\u001b[1;32m----> 1\u001b[1;33m \u001b[0ma\u001b[0m\u001b[1;33m=\u001b[0m\u001b[0mb\u001b[0m\u001b[1;33m\u001b[0m\u001b[1;33m\u001b[0m\u001b[0m\n\u001b[0m",
      "\u001b[1;31mNameError\u001b[0m: name 'b' is not defined"
     ]
    }
   ],
   "source": [
    "a=b "
   ]
  },
  {
   "cell_type": "code",
   "execution_count": 3,
   "id": "15bdf2b1",
   "metadata": {},
   "outputs": [
    {
     "name": "stdout",
     "output_type": "stream",
     "text": [
      "some problem may have occured\n"
     ]
    }
   ],
   "source": [
    "try:\n",
    "    ##code block where exception can occur\n",
    "    a=b\n",
    "except:\n",
    "    print(\"some problem may have occured\")"
   ]
  },
  {
   "cell_type": "code",
   "execution_count": 5,
   "id": "de08f022",
   "metadata": {},
   "outputs": [
    {
     "name": "stdout",
     "output_type": "stream",
     "text": [
      "name 'b' is not defined\n"
     ]
    }
   ],
   "source": [
    "try:\n",
    "    ##code block where exception can occur\n",
    "    a=b\n",
    "except Exception as ex:##Exception class\n",
    "    print(ex)"
   ]
  },
  {
   "cell_type": "code",
   "execution_count": 6,
   "id": "ecd26412",
   "metadata": {},
   "outputs": [
    {
     "name": "stdout",
     "output_type": "stream",
     "text": [
      "<built-in method with_traceback of NameError object at 0x000001B7E78D2130>\n"
     ]
    }
   ],
   "source": [
    "try:\n",
    "    ##code block where exception can occur\n",
    "    a=b\n",
    "except Exception as ex:##Exception class\n",
    "    print(ex.with_traceback)"
   ]
  },
  {
   "cell_type": "code",
   "execution_count": 7,
   "id": "f5da3b9d",
   "metadata": {},
   "outputs": [
    {
     "name": "stdout",
     "output_type": "stream",
     "text": [
      "The user have not defined the vaariable\n"
     ]
    }
   ],
   "source": [
    "try:\n",
    "    ##code block where exception can occur\n",
    "    a=b\n",
    "except NameError as ex1:\n",
    "    print(\"The user have not defined the vaariable\")\n",
    "except Exception as ex:##Exception class\n",
    "    print(ex)"
   ]
  },
  {
   "cell_type": "code",
   "execution_count": 8,
   "id": "91867885",
   "metadata": {},
   "outputs": [
    {
     "name": "stdout",
     "output_type": "stream",
     "text": [
      "unsupported operand type(s) for +: 'int' and 'str'\n"
     ]
    }
   ],
   "source": [
    "try:\n",
    "    ##code block where exception can occur\n",
    "    a=1\n",
    "    b='s'\n",
    "    c=a+b\n",
    "except NameError as ex1:\n",
    "    print(\"The user have not defined the vaariable\")\n",
    "except Exception as ex:##Exception class\n",
    "    print(ex)"
   ]
  },
  {
   "cell_type": "code",
   "execution_count": 9,
   "id": "f1645890",
   "metadata": {},
   "outputs": [
    {
     "ename": "TypeError",
     "evalue": "unsupported operand type(s) for +: 'int' and 'str'",
     "output_type": "error",
     "traceback": [
      "\u001b[1;31m---------------------------------------------------------------------------\u001b[0m",
      "\u001b[1;31mTypeError\u001b[0m                                 Traceback (most recent call last)",
      "\u001b[1;32m~\\AppData\\Local\\Temp\\ipykernel_1808\\1119264416.py\u001b[0m in \u001b[0;36m<module>\u001b[1;34m\u001b[0m\n\u001b[0;32m      1\u001b[0m \u001b[0ma\u001b[0m\u001b[1;33m=\u001b[0m\u001b[1;36m1\u001b[0m\u001b[1;33m\u001b[0m\u001b[1;33m\u001b[0m\u001b[0m\n\u001b[0;32m      2\u001b[0m \u001b[0mb\u001b[0m\u001b[1;33m=\u001b[0m\u001b[1;34m's'\u001b[0m\u001b[1;33m\u001b[0m\u001b[1;33m\u001b[0m\u001b[0m\n\u001b[1;32m----> 3\u001b[1;33m \u001b[0mc\u001b[0m\u001b[1;33m=\u001b[0m\u001b[0ma\u001b[0m\u001b[1;33m+\u001b[0m\u001b[0mb\u001b[0m\u001b[1;33m\u001b[0m\u001b[1;33m\u001b[0m\u001b[0m\n\u001b[0m",
      "\u001b[1;31mTypeError\u001b[0m: unsupported operand type(s) for +: 'int' and 'str'"
     ]
    }
   ],
   "source": [
    "a=1\n",
    "b='s'\n",
    "c=a+b"
   ]
  },
  {
   "cell_type": "code",
   "execution_count": 10,
   "id": "b5ec9c5e",
   "metadata": {},
   "outputs": [
    {
     "name": "stdout",
     "output_type": "stream",
     "text": [
      "Try to make datatype similar\n"
     ]
    }
   ],
   "source": [
    "try:\n",
    "    ##code block where exception can occur\n",
    "    a=1\n",
    "    b='s'\n",
    "    c=a+b\n",
    "except NameError:\n",
    "    print(\"The user have not defined the vaariable\")\n",
    "except TypeError:\n",
    "    print(\"Try to make datatype similar\")\n",
    "except Exception as ex:##Exception class\n",
    "    print(ex)"
   ]
  },
  {
   "cell_type": "code",
   "execution_count": 13,
   "id": "5e179091",
   "metadata": {},
   "outputs": [
    {
     "name": "stdout",
     "output_type": "stream",
     "text": [
      "Enter the no.112\n",
      "Enter the no. 20\n",
      "division by zero\n"
     ]
    }
   ],
   "source": [
    "try:\n",
    "    ##code block where exception can occur\n",
    "    a=int(input(\"Enter the no.1\"))\n",
    "    b=int(input(\"Enter the no. 2\"))\n",
    "    c=a/b\n",
    "    d=a*b\n",
    "    e=a+b\n",
    "    print(c)\n",
    "    print(d)\n",
    "    print(e)\n",
    "except NameError:\n",
    "    print(\"The user have not defined the vaariable\")\n",
    "except TypeError:\n",
    "    print(\"Try to make datatype similar\")\n",
    "except Exception as ex:##Exception class\n",
    "    print(ex)"
   ]
  },
  {
   "cell_type": "code",
   "execution_count": 14,
   "id": "793b23af",
   "metadata": {},
   "outputs": [
    {
     "ename": "ZeroDivisionError",
     "evalue": "division by zero",
     "output_type": "error",
     "traceback": [
      "\u001b[1;31m---------------------------------------------------------------------------\u001b[0m",
      "\u001b[1;31mZeroDivisionError\u001b[0m                         Traceback (most recent call last)",
      "\u001b[1;32m~\\AppData\\Local\\Temp\\ipykernel_1808\\21889111.py\u001b[0m in \u001b[0;36m<module>\u001b[1;34m\u001b[0m\n\u001b[1;32m----> 1\u001b[1;33m \u001b[1;36m12\u001b[0m\u001b[1;33m/\u001b[0m\u001b[1;36m0\u001b[0m\u001b[1;33m\u001b[0m\u001b[1;33m\u001b[0m\u001b[0m\n\u001b[0m",
      "\u001b[1;31mZeroDivisionError\u001b[0m: division by zero"
     ]
    }
   ],
   "source": [
    "12/0"
   ]
  },
  {
   "cell_type": "code",
   "execution_count": 15,
   "id": "9f08adc5",
   "metadata": {},
   "outputs": [
    {
     "name": "stdout",
     "output_type": "stream",
     "text": [
      "Enter the no.112\n",
      "Enter the no. 20\n",
      "Please provide no. greater than 0\n"
     ]
    }
   ],
   "source": [
    "try:\n",
    "    ##code block where exception can occur\n",
    "    a=int(input(\"Enter the no.1\"))\n",
    "    b=int(input(\"Enter the no. 2\"))\n",
    "    c=a/b\n",
    "    d=a*b\n",
    "    e=a+b\n",
    "    print(c)\n",
    "    print(d)\n",
    "    print(e)\n",
    "except NameError:\n",
    "    print(\"The user have not defined the vaariable\")\n",
    "except ZeroDivisionError:\n",
    "    print(\"Please provide no. greater than 0\")\n",
    "except TypeError:\n",
    "    print(\"Try to make datatype similar\")\n",
    "except Exception as ex:##Exception class\n",
    "    print(ex)"
   ]
  },
  {
   "cell_type": "code",
   "execution_count": 16,
   "id": "9a7fd68f",
   "metadata": {},
   "outputs": [
    {
     "name": "stdout",
     "output_type": "stream",
     "text": [
      "Enter the no.112\n",
      "Enter the no. 24\n",
      "3.0\n",
      "48\n",
      "16\n"
     ]
    }
   ],
   "source": [
    "## Try Else\n",
    "try:\n",
    "    ##code block where exception can occur\n",
    "    a=int(input(\"Enter the no.1\"))\n",
    "    b=int(input(\"Enter the no. 2\"))\n",
    "    c=a/b\n",
    "    d=a*b\n",
    "    e=a+b\n",
    "\n",
    "except NameError:\n",
    "    print(\"The user have not defined the vaariable\")\n",
    "except ZeroDivisionError:\n",
    "    print(\"Please provide no. greater than 0\")\n",
    "except TypeError:\n",
    "    print(\"Try to make datatype similar\")\n",
    "except Exception as ex:##Exception class\n",
    "    print(ex)\n",
    "else:\n",
    "    print(c)\n",
    "    print(d)\n",
    "    print(e)"
   ]
  },
  {
   "cell_type": "code",
   "execution_count": 17,
   "id": "7aa77718",
   "metadata": {},
   "outputs": [
    {
     "name": "stdout",
     "output_type": "stream",
     "text": [
      "Enter the no.112\n",
      "Enter the no. 20\n",
      "Please provide no. greater than 0\n"
     ]
    }
   ],
   "source": [
    "## Try Else\n",
    "try:\n",
    "    ##code block where exception can occur\n",
    "    a=int(input(\"Enter the no.1\"))\n",
    "    b=int(input(\"Enter the no. 2\"))\n",
    "    c=a/b\n",
    "    d=a*b\n",
    "    e=a+b\n",
    "\n",
    "except NameError:\n",
    "    print(\"The user have not defined the vaariable\")\n",
    "except ZeroDivisionError:\n",
    "    print(\"Please provide no. greater than 0\")\n",
    "except TypeError:\n",
    "    print(\"Try to make datatype similar\")\n",
    "except Exception as ex:##Exception class\n",
    "    print(ex)\n",
    "else:\n",
    "    print(c)\n",
    "    print(d)\n",
    "    print(e)"
   ]
  },
  {
   "cell_type": "code",
   "execution_count": 18,
   "id": "aa653076",
   "metadata": {},
   "outputs": [],
   "source": [
    "## Try else finally "
   ]
  },
  {
   "cell_type": "code",
   "execution_count": 20,
   "id": "81dfb3e3",
   "metadata": {},
   "outputs": [
    {
     "name": "stdout",
     "output_type": "stream",
     "text": [
      "Enter the no.112\n",
      "Enter the no. 20\n",
      "Please provide no. greater than 0\n",
      "The execution is done\n"
     ]
    }
   ],
   "source": [
    "try:\n",
    "    ##code block where exception can occur\n",
    "    a=int(input(\"Enter the no.1\"))\n",
    "    b=int(input(\"Enter the no. 2\"))\n",
    "    c=a/b\n",
    "\n",
    "except NameError:\n",
    "    print(\"The user have not defined the vaariable\")\n",
    "except ZeroDivisionError:\n",
    "    print(\"Please provide no. greater than 0\")\n",
    "except TypeError:\n",
    "    print(\"Try to make datatype similar\")\n",
    "except Exception as ex:##Exception class\n",
    "    print(ex)\n",
    "else:\n",
    "    print(c)\n",
    "finally:\n",
    "    print(\"The execution is done\")"
   ]
  },
  {
   "cell_type": "code",
   "execution_count": 21,
   "id": "35b6e738",
   "metadata": {},
   "outputs": [],
   "source": [
    "##finally use case"
   ]
  },
  {
   "cell_type": "code",
   "execution_count": null,
   "id": "7805b55d",
   "metadata": {},
   "outputs": [],
   "source": []
  },
  {
   "cell_type": "code",
   "execution_count": null,
   "id": "6af2a514",
   "metadata": {},
   "outputs": [],
   "source": []
  },
  {
   "cell_type": "markdown",
   "id": "1b51d904",
   "metadata": {},
   "source": [
    "## Custom Exception"
   ]
  },
  {
   "cell_type": "code",
   "execution_count": 23,
   "id": "bf66c116",
   "metadata": {},
   "outputs": [],
   "source": [
    "class Error(Exception):\n",
    "    pass\n",
    "class dobException(Error):\n",
    "    pass\n",
    "    "
   ]
  },
  {
   "cell_type": "code",
   "execution_count": 28,
   "id": "fabe8b3c",
   "metadata": {},
   "outputs": [
    {
     "name": "stdout",
     "output_type": "stream",
     "text": [
      "Enter the year of birth1999\n"
     ]
    }
   ],
   "source": [
    "year=int(input(\"Enter the year of birth\"))\n",
    "age=2023-year\n",
    "try:\n",
    "    if age <=30 & age>20:\n",
    "        pass\n",
    "    else:\n",
    "        raise dobException\n",
    "except dobException:\n",
    "    print(\"The year range is not valid\")"
   ]
  },
  {
   "cell_type": "code",
   "execution_count": 30,
   "id": "d00c84f7",
   "metadata": {},
   "outputs": [
    {
     "name": "stdout",
     "output_type": "stream",
     "text": [
      "Enter the year of birth1990\n",
      "The year range is not valid.you cannot apply for exams\n"
     ]
    }
   ],
   "source": [
    "year=int(input(\"Enter the year of birth\"))\n",
    "age=2023-year\n",
    "try:\n",
    "    if age <=30 & age>20:\n",
    "        print(\"The age is valid.you can apply for exams\")\n",
    "    else:\n",
    "        raise dobException\n",
    "except dobException:\n",
    "    print(\"The year range is not valid.you cannot apply for exams\")"
   ]
  },
  {
   "cell_type": "code",
   "execution_count": null,
   "id": "78a939be",
   "metadata": {},
   "outputs": [],
   "source": []
  }
 ],
 "metadata": {
  "kernelspec": {
   "display_name": "Python 3 (ipykernel)",
   "language": "python",
   "name": "python3"
  },
  "language_info": {
   "codemirror_mode": {
    "name": "ipython",
    "version": 3
   },
   "file_extension": ".py",
   "mimetype": "text/x-python",
   "name": "python",
   "nbconvert_exporter": "python",
   "pygments_lexer": "ipython3",
   "version": "3.9.13"
  }
 },
 "nbformat": 4,
 "nbformat_minor": 5
}
