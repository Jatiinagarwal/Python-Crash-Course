{
 "cells": [
  {
   "cell_type": "markdown",
   "id": "5e730208",
   "metadata": {},
   "source": [
    "## Functions in Python\n",
    "### Why Functions\n",
    "### Function Definition\n",
    "### Positional and Keyword Arguments in Functions"
   ]
  },
  {
   "cell_type": "code",
   "execution_count": 2,
   "id": "26065913",
   "metadata": {},
   "outputs": [
    {
     "name": "stdout",
     "output_type": "stream",
     "text": [
      "The number is even\n"
     ]
    }
   ],
   "source": [
    "num = 24\n",
    "\n",
    "if num%2==0:\n",
    "    print(\"The number is even\")\n",
    "else:\n",
    "    print(\"The number is odd\")"
   ]
  },
  {
   "cell_type": "code",
   "execution_count": 3,
   "id": "97db8eaa",
   "metadata": {},
   "outputs": [],
   "source": [
    "def even_odd(num):\n",
    "    if num%2==0:\n",
    "        print(\"The number is even\")\n",
    "    else:\n",
    "        print(\"The number is odd\")"
   ]
  },
  {
   "cell_type": "code",
   "execution_count": 6,
   "id": "a92e59b4",
   "metadata": {},
   "outputs": [
    {
     "name": "stdout",
     "output_type": "stream",
     "text": [
      "The number is even\n"
     ]
    }
   ],
   "source": [
    "even_odd(34)"
   ]
  },
  {
   "cell_type": "code",
   "execution_count": 9,
   "id": "beeb564f",
   "metadata": {},
   "outputs": [],
   "source": [
    "## Print vs Return\n",
    "def hello_world():\n",
    "    print(\"Hello Welcome\")"
   ]
  },
  {
   "cell_type": "code",
   "execution_count": 12,
   "id": "b9646d17",
   "metadata": {},
   "outputs": [
    {
     "name": "stdout",
     "output_type": "stream",
     "text": [
      "Hello Welcome\n"
     ]
    }
   ],
   "source": [
    "val=hello_world()"
   ]
  },
  {
   "cell_type": "code",
   "execution_count": 13,
   "id": "1bcb921d",
   "metadata": {},
   "outputs": [
    {
     "name": "stdout",
     "output_type": "stream",
     "text": [
      "None\n"
     ]
    }
   ],
   "source": [
    "print(val)"
   ]
  },
  {
   "cell_type": "code",
   "execution_count": 14,
   "id": "3df74aee",
   "metadata": {},
   "outputs": [],
   "source": [
    "## Print vs Return\n",
    "def hello_world():\n",
    "    return \"Hello Welcome\""
   ]
  },
  {
   "cell_type": "code",
   "execution_count": 15,
   "id": "5c0cd3eb",
   "metadata": {},
   "outputs": [],
   "source": [
    "val=hello_world()"
   ]
  },
  {
   "cell_type": "code",
   "execution_count": 16,
   "id": "572ecfd8",
   "metadata": {},
   "outputs": [
    {
     "name": "stdout",
     "output_type": "stream",
     "text": [
      "Hello Welcome\n"
     ]
    }
   ],
   "source": [
    "print(val)"
   ]
  },
  {
   "cell_type": "code",
   "execution_count": 17,
   "id": "9a73ac54",
   "metadata": {},
   "outputs": [],
   "source": [
    "def add_number(num1,num2):\n",
    "    return num1+num2"
   ]
  },
  {
   "cell_type": "code",
   "execution_count": 19,
   "id": "4904307f",
   "metadata": {},
   "outputs": [],
   "source": [
    "val=add_number(24,48)"
   ]
  },
  {
   "cell_type": "code",
   "execution_count": 20,
   "id": "447b56b9",
   "metadata": {},
   "outputs": [
    {
     "data": {
      "text/plain": [
       "72"
      ]
     },
     "execution_count": 20,
     "metadata": {},
     "output_type": "execute_result"
    }
   ],
   "source": [
    "val"
   ]
  },
  {
   "cell_type": "code",
   "execution_count": 26,
   "id": "bade3207",
   "metadata": {},
   "outputs": [],
   "source": [
    "#Positional argument\n",
    "## keyword argument\n",
    "def hello(name,age=20):\n",
    "    print(\"My name is {} and age is {}\".format(name,age))"
   ]
  },
  {
   "cell_type": "code",
   "execution_count": 27,
   "id": "29155e65",
   "metadata": {},
   "outputs": [
    {
     "name": "stdout",
     "output_type": "stream",
     "text": [
      "My name is Jatin and age is 20\n"
     ]
    }
   ],
   "source": [
    "hello('Jatin')"
   ]
  },
  {
   "cell_type": "code",
   "execution_count": 28,
   "id": "8a5d2245",
   "metadata": {},
   "outputs": [],
   "source": [
    "def hello(*args,**kwargs):\n",
    "    print(args)\n",
    "    print(kwargs)"
   ]
  },
  {
   "cell_type": "code",
   "execution_count": 29,
   "id": "56448b74",
   "metadata": {},
   "outputs": [
    {
     "name": "stdout",
     "output_type": "stream",
     "text": [
      "('Jatin', 'aggarwal')\n",
      "{'age': 20, 'dob': 2003}\n"
     ]
    }
   ],
   "source": [
    "hello(\"Jatin\",\"aggarwal\",age=20,dob=2003)"
   ]
  },
  {
   "cell_type": "code",
   "execution_count": 30,
   "id": "65cac53b",
   "metadata": {},
   "outputs": [],
   "source": [
    "lst=['Jatin', 'aggarwal']\n",
    "dict_args = {'age': 20, 'dob': 2003}"
   ]
  },
  {
   "cell_type": "code",
   "execution_count": 32,
   "id": "6d516ee0",
   "metadata": {},
   "outputs": [
    {
     "name": "stdout",
     "output_type": "stream",
     "text": [
      "('Jatin', 'aggarwal')\n",
      "{'age': 20, 'dob': 2003}\n"
     ]
    }
   ],
   "source": [
    "hello(*lst,**dict_args)"
   ]
  },
  {
   "cell_type": "code",
   "execution_count": 33,
   "id": "55f97457",
   "metadata": {},
   "outputs": [],
   "source": [
    "lst=[1,2,3,4,5,6,7]"
   ]
  },
  {
   "cell_type": "code",
   "execution_count": 37,
   "id": "19ddec04",
   "metadata": {},
   "outputs": [],
   "source": [
    "def evenoddsum(lst):\n",
    "    even_sum=0\n",
    "    odd_sum=0\n",
    "    for i in lst:\n",
    "        if i%2==0:\n",
    "            even_sum=even_sum+i\n",
    "        else:\n",
    "            odd_sum=odd_sum+i\n",
    "    return even_sum,odd_sum"
   ]
  },
  {
   "cell_type": "code",
   "execution_count": 38,
   "id": "7e4266a1",
   "metadata": {},
   "outputs": [
    {
     "data": {
      "text/plain": [
       "(12, 16)"
      ]
     },
     "execution_count": 38,
     "metadata": {},
     "output_type": "execute_result"
    }
   ],
   "source": [
    "evenoddsum(lst)"
   ]
  },
  {
   "cell_type": "code",
   "execution_count": null,
   "id": "ad38f436",
   "metadata": {},
   "outputs": [],
   "source": []
  },
  {
   "cell_type": "code",
   "execution_count": null,
   "id": "543edf62",
   "metadata": {},
   "outputs": [],
   "source": []
  },
  {
   "cell_type": "markdown",
   "id": "7b290b1c",
   "metadata": {},
   "source": [
    "## Lambda Function\n",
    "#### Anonymous Function\n",
    "#### A function with no name"
   ]
  },
  {
   "cell_type": "markdown",
   "id": "5c65a80a",
   "metadata": {},
   "source": [
    "##### works faster \n",
    "##### only one expression"
   ]
  },
  {
   "cell_type": "code",
   "execution_count": 40,
   "id": "00769b12",
   "metadata": {},
   "outputs": [],
   "source": [
    "def addition(a,b):\n",
    "    return a+b"
   ]
  },
  {
   "cell_type": "code",
   "execution_count": 42,
   "id": "965caa63",
   "metadata": {},
   "outputs": [
    {
     "data": {
      "text/plain": [
       "7"
      ]
     },
     "execution_count": 42,
     "metadata": {},
     "output_type": "execute_result"
    }
   ],
   "source": [
    "addition(2,5)"
   ]
  },
  {
   "cell_type": "code",
   "execution_count": 43,
   "id": "a8563586",
   "metadata": {},
   "outputs": [],
   "source": [
    "addition=lambda a,b:a+b"
   ]
  },
  {
   "cell_type": "code",
   "execution_count": 44,
   "id": "30bd8f05",
   "metadata": {},
   "outputs": [
    {
     "data": {
      "text/plain": [
       "6"
      ]
     },
     "execution_count": 44,
     "metadata": {},
     "output_type": "execute_result"
    }
   ],
   "source": [
    "addition(2,4)"
   ]
  },
  {
   "cell_type": "code",
   "execution_count": 45,
   "id": "49a5675e",
   "metadata": {},
   "outputs": [],
   "source": [
    "def even(num):\n",
    "    if num%2==0:\n",
    "        return True"
   ]
  },
  {
   "cell_type": "code",
   "execution_count": 46,
   "id": "601da9a9",
   "metadata": {},
   "outputs": [
    {
     "data": {
      "text/plain": [
       "True"
      ]
     },
     "execution_count": 46,
     "metadata": {},
     "output_type": "execute_result"
    }
   ],
   "source": [
    "even(24)"
   ]
  },
  {
   "cell_type": "code",
   "execution_count": 47,
   "id": "67424b7f",
   "metadata": {},
   "outputs": [],
   "source": [
    "even1=lambda a:a%2==0"
   ]
  },
  {
   "cell_type": "code",
   "execution_count": 49,
   "id": "ee2c9912",
   "metadata": {},
   "outputs": [
    {
     "data": {
      "text/plain": [
       "True"
      ]
     },
     "execution_count": 49,
     "metadata": {},
     "output_type": "execute_result"
    }
   ],
   "source": [
    "even1(4)"
   ]
  },
  {
   "cell_type": "code",
   "execution_count": 50,
   "id": "3c8104b6",
   "metadata": {},
   "outputs": [],
   "source": [
    "def addition(x,y,z):\n",
    "    return x+y+z"
   ]
  },
  {
   "cell_type": "code",
   "execution_count": 51,
   "id": "0677305b",
   "metadata": {},
   "outputs": [
    {
     "data": {
      "text/plain": [
       "9"
      ]
     },
     "execution_count": 51,
     "metadata": {},
     "output_type": "execute_result"
    }
   ],
   "source": [
    "addition(2,3,4)"
   ]
  },
  {
   "cell_type": "code",
   "execution_count": 52,
   "id": "733c7b51",
   "metadata": {},
   "outputs": [],
   "source": [
    "addition=lambda x,y,z:x+y+z"
   ]
  },
  {
   "cell_type": "code",
   "execution_count": 53,
   "id": "ad2c5601",
   "metadata": {},
   "outputs": [
    {
     "data": {
      "text/plain": [
       "6"
      ]
     },
     "execution_count": 53,
     "metadata": {},
     "output_type": "execute_result"
    }
   ],
   "source": [
    "addition(1,2,3)"
   ]
  },
  {
   "cell_type": "code",
   "execution_count": null,
   "id": "f3729a8b",
   "metadata": {},
   "outputs": [],
   "source": []
  },
  {
   "cell_type": "code",
   "execution_count": null,
   "id": "0e937e08",
   "metadata": {},
   "outputs": [],
   "source": []
  },
  {
   "cell_type": "markdown",
   "id": "aae7bde8",
   "metadata": {},
   "source": [
    "## Map Function in Python"
   ]
  },
  {
   "cell_type": "code",
   "execution_count": 54,
   "id": "01e81a7d",
   "metadata": {},
   "outputs": [],
   "source": [
    "def even_or_odd(num):\n",
    "    if num%2==0:\n",
    "        return \"Even\"\n",
    "    else:\n",
    "        return \"Odd\"\n",
    "    "
   ]
  },
  {
   "cell_type": "code",
   "execution_count": 55,
   "id": "b8d212ec",
   "metadata": {},
   "outputs": [
    {
     "data": {
      "text/plain": [
       "'Odd'"
      ]
     },
     "execution_count": 55,
     "metadata": {},
     "output_type": "execute_result"
    }
   ],
   "source": [
    "even_or_odd(23)"
   ]
  },
  {
   "cell_type": "code",
   "execution_count": 56,
   "id": "8b66c13e",
   "metadata": {},
   "outputs": [],
   "source": [
    "lst=[1,3,2,7,5,24,45]"
   ]
  },
  {
   "cell_type": "code",
   "execution_count": 58,
   "id": "87515543",
   "metadata": {},
   "outputs": [
    {
     "data": {
      "text/plain": [
       "['Odd', 'Odd', 'Even', 'Odd', 'Odd', 'Even', 'Odd']"
      ]
     },
     "execution_count": 58,
     "metadata": {},
     "output_type": "execute_result"
    }
   ],
   "source": [
    "list(map(even_or_odd,lst))"
   ]
  },
  {
   "cell_type": "code",
   "execution_count": null,
   "id": "26b528ae",
   "metadata": {},
   "outputs": [],
   "source": []
  },
  {
   "cell_type": "code",
   "execution_count": null,
   "id": "7a745a4d",
   "metadata": {},
   "outputs": [],
   "source": []
  },
  {
   "cell_type": "markdown",
   "id": "b7d3d2a9",
   "metadata": {},
   "source": [
    "## Filter Function in Python"
   ]
  },
  {
   "cell_type": "code",
   "execution_count": 63,
   "id": "86051a30",
   "metadata": {},
   "outputs": [],
   "source": [
    "def even(num):\n",
    "    if num%2==0:\n",
    "        return True"
   ]
  },
  {
   "cell_type": "code",
   "execution_count": 64,
   "id": "f9250cae",
   "metadata": {},
   "outputs": [],
   "source": [
    "lst=[1,2,3,4,5,6,7,8,9]"
   ]
  },
  {
   "cell_type": "code",
   "execution_count": 65,
   "id": "200c30f7",
   "metadata": {},
   "outputs": [
    {
     "data": {
      "text/plain": [
       "[2, 4, 6, 8]"
      ]
     },
     "execution_count": 65,
     "metadata": {},
     "output_type": "execute_result"
    }
   ],
   "source": [
    "list(filter(even,lst))"
   ]
  },
  {
   "cell_type": "code",
   "execution_count": 67,
   "id": "057fdf97",
   "metadata": {},
   "outputs": [
    {
     "data": {
      "text/plain": [
       "[2, 4, 6, 8]"
      ]
     },
     "execution_count": 67,
     "metadata": {},
     "output_type": "execute_result"
    }
   ],
   "source": [
    "list(filter(lambda num:num%2==0,lst))"
   ]
  },
  {
   "cell_type": "code",
   "execution_count": 68,
   "id": "62d954d2",
   "metadata": {},
   "outputs": [
    {
     "data": {
      "text/plain": [
       "[False, True, False, True, False, True, False, True, False]"
      ]
     },
     "execution_count": 68,
     "metadata": {},
     "output_type": "execute_result"
    }
   ],
   "source": [
    "list(map(lambda num:num%2==0,lst))"
   ]
  },
  {
   "cell_type": "code",
   "execution_count": null,
   "id": "f36de0de",
   "metadata": {},
   "outputs": [],
   "source": []
  }
 ],
 "metadata": {
  "kernelspec": {
   "display_name": "Python 3 (ipykernel)",
   "language": "python",
   "name": "python3"
  },
  "language_info": {
   "codemirror_mode": {
    "name": "ipython",
    "version": 3
   },
   "file_extension": ".py",
   "mimetype": "text/x-python",
   "name": "python",
   "nbconvert_exporter": "python",
   "pygments_lexer": "ipython3",
   "version": "3.9.13"
  }
 },
 "nbformat": 4,
 "nbformat_minor": 5
}
